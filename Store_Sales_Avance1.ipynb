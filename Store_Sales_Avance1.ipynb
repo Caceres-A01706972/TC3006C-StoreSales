{
  "cells": [
    {
      "cell_type": "markdown",
      "source": [
        "# Reto: Store Sales - Time Series Forecasting\n",
        "\n",
        "Kaggle Competition: https://www.kaggle.com/competitions/store-sales-time-series-forecasting\n",
        "\n",
        "Análisis Inicial:\n",
        "\n",
        "Miembros del equipo:\n",
        "- Josemaría Robledo Lara\n",
        "- Ricardo Andrés Cáceres Villibord\n",
        "- Rodrigo Muñoz Guerrero\n",
        "\n"
      ],
      "metadata": {
        "id": "I5Z8QWPXrbAQ"
      }
    },
    {
      "cell_type": "markdown",
      "source": [
        "\n",
        "\n",
        "---\n",
        "\n"
      ],
      "metadata": {
        "id": "7gcU4w91swWj"
      }
    },
    {
      "cell_type": "markdown",
      "source": [
        "### Importar librerías necesarias y montar el drive"
      ],
      "metadata": {
        "id": "aBaccsGKs-fb"
      }
    },
    {
      "cell_type": "code",
      "execution_count": null,
      "metadata": {
        "colab": {
          "base_uri": "https://localhost:8080/"
        },
        "id": "eRv8SFP-RO6W",
        "outputId": "a0fa3bff-099c-4706-fc9b-df56b2e96876"
      },
      "outputs": [
        {
          "output_type": "stream",
          "name": "stdout",
          "text": [
            "Mounted at /content/gdrive\n"
          ]
        }
      ],
      "source": [
        "import pandas as pd\n",
        "import numpy as np\n",
        "from google.colab import drive\n",
        "import matplotlib.pyplot as plt\n",
        "import seaborn as sns\n",
        "\n",
        "drive.mount(\"/content/gdrive\")\n",
        "%cd \"/content/gdrive/MyDrive/SeptimoSemestre/ModIA/Reto\"\n"
      ]
    },
    {
      "cell_type": "markdown",
      "source": [
        "### Cargar Datos"
      ],
      "metadata": {
        "id": "ima31e__tMZk"
      }
    },
    {
      "cell_type": "code",
      "execution_count": null,
      "metadata": {
        "colab": {
          "base_uri": "https://localhost:8080/"
        },
        "id": "8gsERtSKSGcs",
        "outputId": "d87cde52-f351-4864-ce25-dd85cc2e6a53"
      },
      "outputs": [
        {
          "name": "stdout",
          "output_type": "stream",
          "text": [
            "/content/gdrive/MyDrive/SeptimoSemestre/ModIA/Reto\n"
          ]
        }
      ],
      "source": [
        "df_train = pd.read_csv('train.csv')\n",
        "df_test = pd.read_csv('test.csv')\n",
        "df_stores = pd.read_csv('stores.csv')\n",
        "df_transactions = pd.read_csv('transactions.csv')\n",
        "df_oil = pd.read_csv('oil.csv')\n",
        "df_holidays = pd.read_csv('holidays_events.csv')"
      ]
    },
    {
      "cell_type": "markdown",
      "source": [
        "### Ver tipos de datos"
      ],
      "metadata": {
        "id": "vG8d1s8tymor"
      }
    },
    {
      "cell_type": "code",
      "source": [
        "print(\"DF_TRAIN: \\n\", df_train.info())\n",
        "print(\"DF_TEST: \\n\", df_test.info())\n",
        "print(\"DF_STORES: \\n\", df_stores.info())\n",
        "print(\"DF_TRANSACTIONS: \\n\",df_transactions.info())\n",
        "print(\"DF_OIL: \\n\",df_oil.info())\n",
        "print(\"DF_HOLIDAYS: \\n\",df_holidays.info())"
      ],
      "metadata": {
        "id": "LebL3ckqymBF"
      },
      "execution_count": null,
      "outputs": []
    },
    {
      "cell_type": "markdown",
      "source": [
        "### Convertir datos de fecha a tipo `datetime` y verificar si hay valores NaN"
      ],
      "metadata": {
        "id": "vDs2JZTytfMc"
      }
    },
    {
      "cell_type": "code",
      "execution_count": null,
      "metadata": {
        "colab": {
          "base_uri": "https://localhost:8080/",
          "height": 175
        },
        "id": "aHpkjFP8S7VY",
        "outputId": "a2008d0d-18e1-4cab-9b53-3dfc26e0fe9e"
      },
      "outputs": [
        {
          "output_type": "error",
          "ename": "NameError",
          "evalue": "ignored",
          "traceback": [
            "\u001b[0;31m---------------------------------------------------------------------------\u001b[0m",
            "\u001b[0;31mNameError\u001b[0m                                 Traceback (most recent call last)",
            "\u001b[0;32m<ipython-input-1-05f1e6b5b447>\u001b[0m in \u001b[0;36m<cell line: 1>\u001b[0;34m()\u001b[0m\n\u001b[0;32m----> 1\u001b[0;31m \u001b[0mdf_train\u001b[0m\u001b[0;34m[\u001b[0m\u001b[0;34m'date'\u001b[0m\u001b[0;34m]\u001b[0m \u001b[0;34m=\u001b[0m \u001b[0mpd\u001b[0m\u001b[0;34m.\u001b[0m\u001b[0mto_datetime\u001b[0m\u001b[0;34m(\u001b[0m\u001b[0mdf_train\u001b[0m\u001b[0;34m[\u001b[0m\u001b[0;34m'date'\u001b[0m\u001b[0;34m]\u001b[0m\u001b[0;34m)\u001b[0m\u001b[0;34m\u001b[0m\u001b[0;34m\u001b[0m\u001b[0m\n\u001b[0m",
            "\u001b[0;31mNameError\u001b[0m: name 'pd' is not defined"
          ]
        }
      ],
      "source": [
        "df_train['date'] = pd.to_datetime(df_train['date'])\n",
        "df_test['date'] = pd.to_datetime(df_test['date'])\n",
        "df_transactions['date'] = pd.to_datetime(df_transactions['date'])\n",
        "df_oil['date'] = pd.to_datetime(df_oil['date'])\n",
        "df_holidays['date'] = pd.to_datetime(df_holidays['date'])\n",
        "\n",
        "print(\"NaNs en TRAIN: \", df_train.isna().sum())\n",
        "print(\"\\n NaNs en TEST: \", df_test.isna().sum())\n",
        "print(\"\\n NaNs en STORES: \", df_stores.isna().sum())\n",
        "print(\"\\n NaNs en TRANSACTIONS: \",df_transactions.isna().sum())\n",
        "print(\"\\n NaNs en OIL: \",df_oil.isna().sum())\n",
        "print(\"\\n NaNs en HOLIDAYS: \",df_holidays.isna().sum())"
      ]
    },
    {
      "cell_type": "markdown",
      "source": [
        "### Graficar las ventas por día"
      ],
      "metadata": {
        "id": "H1wbrjuT0ELK"
      }
    },
    {
      "cell_type": "code",
      "source": [
        "plt.plot(df_train['date'], df_train.sales)"
      ],
      "metadata": {
        "id": "8Psad4ohzDrC"
      },
      "execution_count": null,
      "outputs": []
    },
    {
      "cell_type": "markdown",
      "source": [
        "### Promedio y Desviación Estándar"
      ],
      "metadata": {
        "id": "ggsPTB1V1CR8"
      }
    },
    {
      "cell_type": "code",
      "execution_count": null,
      "metadata": {
        "colab": {
          "base_uri": "https://localhost:8080/"
        },
        "id": "M6WvdLbPH-R2",
        "outputId": "1e239526-11cf-4faf-fa19-8132d6c34fae"
      },
      "outputs": [
        {
          "name": "stdout",
          "output_type": "stream",
          "text": [
            "357.77574911261894\n",
            "1101.9977213379996\n"
          ]
        }
      ],
      "source": [
        "print(\"PROMEDIO: \", df_train['sales'].mean())\n",
        "print(\"DESVIACIÓN ESTÁNDAR: \", df_train['sales'].std())"
      ]
    },
    {
      "cell_type": "markdown",
      "source": [
        "### No se que hizo Muñoz"
      ],
      "metadata": {
        "id": "vgKMBi5913ry"
      }
    },
    {
      "cell_type": "code",
      "execution_count": null,
      "metadata": {
        "colab": {
          "base_uri": "https://localhost:8080/"
        },
        "id": "IPCvIUoOc2p2",
        "outputId": "fc1e5e68-1742-4696-dd4b-5bfc3eff3b9d"
      },
      "outputs": [
        {
          "data": {
            "text/plain": [
              "357.6293032174428"
            ]
          },
          "execution_count": 7,
          "metadata": {},
          "output_type": "execute_result"
        }
      ],
      "source": [
        "df_clean = df_train[df_train['sales'] < 60000].copy()\n",
        "print(\"El mean de las sales de df_clean: \", df_clean['sales'].mean())"
      ]
    },
    {
      "cell_type": "markdown",
      "source": [
        "### Se elimina un outlier y se grafican las ventas ya sin el outlier"
      ],
      "metadata": {
        "id": "4MiLrx4I2M75"
      }
    },
    {
      "cell_type": "code",
      "execution_count": null,
      "metadata": {
        "colab": {
          "base_uri": "https://localhost:8080/",
          "height": 447
        },
        "id": "irsESlxFlvOK",
        "outputId": "405d36da-e2fd-4c5c-8bcc-ec802cf4d67d"
      },
      "outputs": [
        {
          "data": {
            "text/plain": [
              "[<matplotlib.lines.Line2D at 0x7fd623d2ffa0>]"
            ]
          },
          "execution_count": 8,
          "metadata": {},
          "output_type": "execute_result"
        },
        {
          "data": {
            "image/png": "[encoded data removed]",
            "text/plain": [
              "<Figure size 640x480 with 1 Axes>"
            ]
          },
          "metadata": {},
          "output_type": "display_data"
        }
      ],
      "source": [
        "# df_train = df_train[df_train['sales'] > 60000, ['sales']] = df_clean['sales'].mean()\n",
        "df_train['sales'] = df_train['sales'].apply(lambda x : df_clean['sales'].mean() if x > 60000 else x)\n",
        "plt.plot(df_train['date'], df_train.sales)"
      ]
    },
    {
      "cell_type": "markdown",
      "source": [
        "### Grafica las promociones contra las ventas CREO QUE ESTO NO AYUDA MUCHO"
      ],
      "metadata": {
        "id": "RlVISc0o3bmJ"
      }
    },
    {
      "cell_type": "code",
      "execution_count": null,
      "metadata": {
        "colab": {
          "base_uri": "https://localhost:8080/",
          "height": 447
        },
        "id": "ZUxb7_uO9_nN",
        "outputId": "08537997-163d-40e4-842c-872602f31a2b"
      },
      "outputs": [
        {
          "data": {
            "text/plain": [
              "<matplotlib.collections.PathCollection at 0x7fd61b0c4f40>"
            ]
          },
          "execution_count": 9,
          "metadata": {},
          "output_type": "execute_result"
        },
        {
          "data": {
            "image/png": "[encoded data removed]",
            "text/plain": [
              "<Figure size 640x480 with 1 Axes>"
            ]
          },
          "metadata": {},
          "output_type": "display_data"
        }
      ],
      "source": [
        "plt.scatter(df_train['onpromotion'],df_train['sales'])"
      ]
    },
    {
      "cell_type": "markdown",
      "source": [
        "### Ventas por familia de productos"
      ],
      "metadata": {
        "id": "m8HBbtc9383-"
      }
    },
    {
      "cell_type": "code",
      "execution_count": null,
      "metadata": {
        "colab": {
          "base_uri": "https://localhost:8080/",
          "height": 1000
        },
        "id": "Z7II7pH1_F4p",
        "outputId": "c8636dfc-a7a2-426d-c857-8cbbe3d771ae"
      },
      "outputs": [
        {
          "name": "stdout",
          "output_type": "stream",
          "text": [
            "                        family         sales\n",
            "12                   GROCERY I  3.431125e+08\n",
            "3                    BEVERAGES  2.169545e+08\n",
            "30                     PRODUCE  1.227047e+08\n",
            "7                     CLEANING  9.752129e+07\n",
            "8                        DAIRY  6.448771e+07\n",
            "5                 BREAD/BAKERY  4.213395e+07\n",
            "28                     POULTRY  3.187600e+07\n",
            "24                       MEATS  3.099725e+07\n",
            "25               PERSONAL CARE  2.459205e+07\n",
            "9                         DELI  2.411032e+07\n",
            "18                   HOME CARE  1.602274e+07\n",
            "10                        EGGS  1.558830e+07\n",
            "11                FROZEN FOODS  1.407389e+07\n",
            "29              PREPARED FOODS  8.799895e+06\n",
            "22            LIQUOR,WINE,BEER  7.746640e+06\n",
            "32                     SEAFOOD  2.015432e+06\n",
            "13                  GROCERY II  1.962767e+06\n",
            "15          HOME AND KITCHEN I  1.861491e+06\n",
            "16         HOME AND KITCHEN II  1.520670e+06\n",
            "6                  CELEBRATION  7.611770e+05\n",
            "21                    LINGERIE  6.531140e+05\n",
            "19                  LADIESWEAR  6.511590e+05\n",
            "27     PLAYERS AND ELECTRONICS  5.626080e+05\n",
            "0                   AUTOMOTIVE  5.548220e+05\n",
            "20             LAWN AND GARDEN  5.488420e+05\n",
            "26                PET SUPPLIES  3.565840e+05\n",
            "2                       BEAUTY  3.378930e+05\n",
            "31  SCHOOL AND OFFICE SUPPLIES  2.693160e+05\n",
            "23                   MAGAZINES  2.663590e+05\n",
            "14                    HARDWARE  1.034700e+05\n",
            "17             HOME APPLIANCES  4.160100e+04\n",
            "1                    BABY CARE  1.005100e+04\n",
            "4                        BOOKS  6.438000e+03\n"
          ]
        },
        {
          "data": {
            "image/png": "[encoded data removed]",
            "text/plain": [
              "<Figure size 640x480 with 1 Axes>"
            ]
          },
          "metadata": {},
          "output_type": "display_data"
        }
      ],
      "source": [
        "# plt.scatter(df_train['family'],df_train['sales'])\n",
        "group = df_train.groupby('family')['sales'].sum().reset_index()\n",
        "plt.barh(group['family'],group['sales'])\n",
        "plt.yticks(range(len(group)), group['family'])\n",
        "print(\"VENTAS POR FAMILIA DE PRODUCTOS: \\n\", group.sort_values(by= 'sales', ascending = False))"
      ]
    },
    {
      "cell_type": "code",
      "execution_count": null,
      "metadata": {
        "colab": {
          "base_uri": "https://localhost:8080/",
          "height": 864
        },
        "id": "yYZ8lFODAbi2",
        "outputId": "fd6d103c-c821-48f8-b3d4-4d51d0e94cd8"
      },
      "outputs": [
        {
          "data": {
            "text/html": [
              "\n",
              "  <div id=\"df-e6433ebe-514b-4e71-a89b-ac5b8d424456\" class=\"colab-df-container\">\n",
              "    <div>\n",
              "<style scoped>\n",
              "    .dataframe tbody tr th:only-of-type {\n",
              "        vertical-align: middle;\n",
              "    }\n",
              "\n",
              "    .dataframe tbody tr th {\n",
              "        vertical-align: top;\n",
              "    }\n",
              "\n",
              "    .dataframe thead th {\n",
              "        text-align: right;\n",
              "    }\n",
              "</style>\n",
              "<table border=\"1\" class=\"dataframe\">\n",
              "  <thead>\n",
              "    <tr style=\"text-align: right;\">\n",
              "      <th></th>\n",
              "      <th>id</th>\n",
              "      <th>date</th>\n",
              "      <th>store_nbr</th>\n",
              "      <th>family</th>\n",
              "      <th>sales</th>\n",
              "      <th>onpromotion</th>\n",
              "    </tr>\n",
              "  </thead>\n",
              "  <tbody>\n",
              "    <tr>\n",
              "      <th>79674</th>\n",
              "      <td>79674</td>\n",
              "      <td>2013-02-14</td>\n",
              "      <td>44</td>\n",
              "      <td>GROCERY I</td>\n",
              "      <td>26067.000</td>\n",
              "      <td>0</td>\n",
              "    </tr>\n",
              "    <tr>\n",
              "      <th>562596</th>\n",
              "      <td>562596</td>\n",
              "      <td>2013-11-12</td>\n",
              "      <td>44</td>\n",
              "      <td>GROCERY I</td>\n",
              "      <td>46271.000</td>\n",
              "      <td>0</td>\n",
              "    </tr>\n",
              "    <tr>\n",
              "      <th>1257246</th>\n",
              "      <td>1257246</td>\n",
              "      <td>2014-12-08</td>\n",
              "      <td>35</td>\n",
              "      <td>GROCERY I</td>\n",
              "      <td>45361.000</td>\n",
              "      <td>3</td>\n",
              "    </tr>\n",
              "    <tr>\n",
              "      <th>1261635</th>\n",
              "      <td>1261635</td>\n",
              "      <td>2014-12-10</td>\n",
              "      <td>9</td>\n",
              "      <td>GROCERY I</td>\n",
              "      <td>31375.500</td>\n",
              "      <td>10</td>\n",
              "    </tr>\n",
              "    <tr>\n",
              "      <th>1269390</th>\n",
              "      <td>1269390</td>\n",
              "      <td>2014-12-15</td>\n",
              "      <td>26</td>\n",
              "      <td>GROCERY I</td>\n",
              "      <td>32209.000</td>\n",
              "      <td>17</td>\n",
              "    </tr>\n",
              "    <tr>\n",
              "      <th>1271832</th>\n",
              "      <td>1271832</td>\n",
              "      <td>2014-12-16</td>\n",
              "      <td>44</td>\n",
              "      <td>GROCERY I</td>\n",
              "      <td>37106.000</td>\n",
              "      <td>7</td>\n",
              "    </tr>\n",
              "    <tr>\n",
              "      <th>1275429</th>\n",
              "      <td>1275429</td>\n",
              "      <td>2014-12-18</td>\n",
              "      <td>45</td>\n",
              "      <td>GROCERY I</td>\n",
              "      <td>25991.000</td>\n",
              "      <td>13</td>\n",
              "    </tr>\n",
              "    <tr>\n",
              "      <th>1283844</th>\n",
              "      <td>1283844</td>\n",
              "      <td>2014-12-23</td>\n",
              "      <td>31</td>\n",
              "      <td>GROCERY I</td>\n",
              "      <td>31851.158</td>\n",
              "      <td>3</td>\n",
              "    </tr>\n",
              "    <tr>\n",
              "      <th>1857219</th>\n",
              "      <td>1857219</td>\n",
              "      <td>2015-11-11</td>\n",
              "      <td>2</td>\n",
              "      <td>GROCERY I</td>\n",
              "      <td>33274.000</td>\n",
              "      <td>23</td>\n",
              "    </tr>\n",
              "    <tr>\n",
              "      <th>1898370</th>\n",
              "      <td>1898370</td>\n",
              "      <td>2015-12-04</td>\n",
              "      <td>24</td>\n",
              "      <td>GROCERY I</td>\n",
              "      <td>35828.000</td>\n",
              "      <td>28</td>\n",
              "    </tr>\n",
              "    <tr>\n",
              "      <th>1916586</th>\n",
              "      <td>1916586</td>\n",
              "      <td>2015-12-14</td>\n",
              "      <td>35</td>\n",
              "      <td>GROCERY I</td>\n",
              "      <td>40351.460</td>\n",
              "      <td>7</td>\n",
              "    </tr>\n",
              "    <tr>\n",
              "      <th>1923384</th>\n",
              "      <td>1923384</td>\n",
              "      <td>2015-12-18</td>\n",
              "      <td>26</td>\n",
              "      <td>GROCERY I</td>\n",
              "      <td>34454.000</td>\n",
              "      <td>14</td>\n",
              "    </tr>\n",
              "    <tr>\n",
              "      <th>1929456</th>\n",
              "      <td>1929456</td>\n",
              "      <td>2015-12-21</td>\n",
              "      <td>46</td>\n",
              "      <td>GROCERY I</td>\n",
              "      <td>25238.000</td>\n",
              "      <td>21</td>\n",
              "    </tr>\n",
              "    <tr>\n",
              "      <th>2137875</th>\n",
              "      <td>2137875</td>\n",
              "      <td>2016-04-17</td>\n",
              "      <td>44</td>\n",
              "      <td>BEVERAGES</td>\n",
              "      <td>25413.000</td>\n",
              "      <td>10</td>\n",
              "    </tr>\n",
              "    <tr>\n",
              "      <th>2137884</th>\n",
              "      <td>2137884</td>\n",
              "      <td>2016-04-17</td>\n",
              "      <td>44</td>\n",
              "      <td>GROCERY I</td>\n",
              "      <td>29670.000</td>\n",
              "      <td>36</td>\n",
              "    </tr>\n",
              "    <tr>\n",
              "      <th>2139666</th>\n",
              "      <td>2139666</td>\n",
              "      <td>2016-04-18</td>\n",
              "      <td>44</td>\n",
              "      <td>GROCERY I</td>\n",
              "      <td>29193.000</td>\n",
              "      <td>40</td>\n",
              "    </tr>\n",
              "    <tr>\n",
              "      <th>2145045</th>\n",
              "      <td>2145045</td>\n",
              "      <td>2016-04-21</td>\n",
              "      <td>45</td>\n",
              "      <td>GROCERY I</td>\n",
              "      <td>53874.000</td>\n",
              "      <td>44</td>\n",
              "    </tr>\n",
              "    <tr>\n",
              "      <th>2245728</th>\n",
              "      <td>2245728</td>\n",
              "      <td>2016-06-17</td>\n",
              "      <td>20</td>\n",
              "      <td>GROCERY I</td>\n",
              "      <td>28998.662</td>\n",
              "      <td>39</td>\n",
              "    </tr>\n",
              "    <tr>\n",
              "      <th>2263548</th>\n",
              "      <td>2263548</td>\n",
              "      <td>2016-06-27</td>\n",
              "      <td>20</td>\n",
              "      <td>GROCERY I</td>\n",
              "      <td>29490.850</td>\n",
              "      <td>28</td>\n",
              "    </tr>\n",
              "    <tr>\n",
              "      <th>2276022</th>\n",
              "      <td>2276022</td>\n",
              "      <td>2016-07-04</td>\n",
              "      <td>20</td>\n",
              "      <td>GROCERY I</td>\n",
              "      <td>37514.926</td>\n",
              "      <td>40</td>\n",
              "    </tr>\n",
              "    <tr>\n",
              "      <th>2550582</th>\n",
              "      <td>2550582</td>\n",
              "      <td>2016-12-05</td>\n",
              "      <td>24</td>\n",
              "      <td>GROCERY I</td>\n",
              "      <td>31689.000</td>\n",
              "      <td>98</td>\n",
              "    </tr>\n",
              "    <tr>\n",
              "      <th>2563452</th>\n",
              "      <td>2563452</td>\n",
              "      <td>2016-12-12</td>\n",
              "      <td>35</td>\n",
              "      <td>GROCERY I</td>\n",
              "      <td>31125.521</td>\n",
              "      <td>77</td>\n",
              "    </tr>\n",
              "    <tr>\n",
              "      <th>2574507</th>\n",
              "      <td>2574507</td>\n",
              "      <td>2016-12-18</td>\n",
              "      <td>45</td>\n",
              "      <td>GROCERY I</td>\n",
              "      <td>25852.000</td>\n",
              "      <td>139</td>\n",
              "    </tr>\n",
              "    <tr>\n",
              "      <th>2576289</th>\n",
              "      <td>2576289</td>\n",
              "      <td>2016-12-19</td>\n",
              "      <td>45</td>\n",
              "      <td>GROCERY I</td>\n",
              "      <td>25938.000</td>\n",
              "      <td>131</td>\n",
              "    </tr>\n",
              "    <tr>\n",
              "      <th>2578071</th>\n",
              "      <td>2578071</td>\n",
              "      <td>2016-12-20</td>\n",
              "      <td>45</td>\n",
              "      <td>GROCERY I</td>\n",
              "      <td>29666.000</td>\n",
              "      <td>128</td>\n",
              "    </tr>\n",
              "    <tr>\n",
              "      <th>2760297</th>\n",
              "      <td>2760297</td>\n",
              "      <td>2017-04-02</td>\n",
              "      <td>9</td>\n",
              "      <td>GROCERY I</td>\n",
              "      <td>38422.625</td>\n",
              "      <td>73</td>\n",
              "    </tr>\n",
              "  </tbody>\n",
              "</table>\n",
              "</div>\n",
              "    <div class=\"colab-df-buttons\">\n",
              "\n",
              "  <div class=\"colab-df-container\">\n",
              "    <button class=\"colab-df-convert\" onclick=\"convertToInteractive('df-e6433ebe-514b-4e71-a89b-ac5b8d424456')\"\n",
              "            title=\"Convert this dataframe to an interactive table.\"\n",
              "            style=\"display:none;\">\n",
              "\n",
              "  <svg xmlns=\"http://www.w3.org/2000/svg\" height=\"24px\" viewBox=\"0 -960 960 960\">\n",
              "    <path d=\"M120-120v-720h720v720H120Zm60-500h600v-160H180v160Zm220 220h160v-160H400v160Zm0 220h160v-160H400v160ZM180-400h160v-160H180v160Zm440 0h160v-160H620v160ZM180-180h160v-160H180v160Zm440 0h160v-160H620v160Z\"/>\n",
              "  </svg>\n",
              "    </button>\n",
              "\n",
              "  <style>\n",
              "    .colab-df-container {\n",
              "      display:flex;\n",
              "      gap: 12px;\n",
              "    }\n",
              "\n",
              "    .colab-df-convert {\n",
              "      background-color: #E8F0FE;\n",
              "      border: none;\n",
              "      border-radius: 50%;\n",
              "      cursor: pointer;\n",
              "      display: none;\n",
              "      fill: #1967D2;\n",
              "      height: 32px;\n",
              "      padding: 0 0 0 0;\n",
              "      width: 32px;\n",
              "    }\n",
              "\n",
              "    .colab-df-convert:hover {\n",
              "      background-color: #E2EBFA;\n",
              "      box-shadow: 0px 1px 2px rgba(60, 64, 67, 0.3), 0px 1px 3px 1px rgba(60, 64, 67, 0.15);\n",
              "      fill: #174EA6;\n",
              "    }\n",
              "\n",
              "    .colab-df-buttons div {\n",
              "      margin-bottom: 4px;\n",
              "    }\n",
              "\n",
              "    [theme=dark] .colab-df-convert {\n",
              "      background-color: #3B4455;\n",
              "      fill: #D2E3FC;\n",
              "    }\n",
              "\n",
              "    [theme=dark] .colab-df-convert:hover {\n",
              "      background-color: #434B5C;\n",
              "      box-shadow: 0px 1px 3px 1px rgba(0, 0, 0, 0.15);\n",
              "      filter: drop-shadow(0px 1px 2px rgba(0, 0, 0, 0.3));\n",
              "      fill: #FFFFFF;\n",
              "    }\n",
              "  </style>\n",
              "\n",
              "    <script>\n",
              "      const buttonEl =\n",
              "        document.querySelector('#df-e6433ebe-514b-4e71-a89b-ac5b8d424456 button.colab-df-convert');\n",
              "      buttonEl.style.display =\n",
              "        google.colab.kernel.accessAllowed ? 'block' : 'none';\n",
              "\n",
              "      async function convertToInteractive(key) {\n",
              "        const element = document.querySelector('#df-e6433ebe-514b-4e71-a89b-ac5b8d424456');\n",
              "        const dataTable =\n",
              "          await google.colab.kernel.invokeFunction('convertToInteractive',\n",
              "                                                    [key], {});\n",
              "        if (!dataTable) return;\n",
              "\n",
              "        const docLinkHtml = 'Like what you see? Visit the ' +\n",
              "          '<a target=\"_blank\" href=https://colab.research.google.com/notebooks/data_table.ipynb>data table notebook</a>'\n",
              "          + ' to learn more about interactive tables.';\n",
              "        element.innerHTML = '';\n",
              "        dataTable['output_type'] = 'display_data';\n",
              "        await google.colab.output.renderOutput(dataTable, element);\n",
              "        const docLink = document.createElement('div');\n",
              "        docLink.innerHTML = docLinkHtml;\n",
              "        element.appendChild(docLink);\n",
              "      }\n",
              "    </script>\n",
              "  </div>\n",
              "\n",
              "\n",
              "<div id=\"df-5521c7bb-0fe7-423f-9087-bd80a8413271\">\n",
              "  <button class=\"colab-df-quickchart\" onclick=\"quickchart('df-5521c7bb-0fe7-423f-9087-bd80a8413271')\"\n",
              "            title=\"Suggest charts.\"\n",
              "            style=\"display:none;\">\n",
              "\n",
              "<svg xmlns=\"http://www.w3.org/2000/svg\" height=\"24px\"viewBox=\"0 0 24 24\"\n",
              "     width=\"24px\">\n",
              "    <g>\n",
              "        <path d=\"M19 3H5c-1.1 0-2 .9-2 2v14c0 1.1.9 2 2 2h14c1.1 0 2-.9 2-2V5c0-1.1-.9-2-2-2zM9 17H7v-7h2v7zm4 0h-2V7h2v10zm4 0h-2v-4h2v4z\"/>\n",
              "    </g>\n",
              "</svg>\n",
              "  </button>\n",
              "\n",
              "<style>\n",
              "  .colab-df-quickchart {\n",
              "    background-color: #E8F0FE;\n",
              "    border: none;\n",
              "    border-radius: 50%;\n",
              "    cursor: pointer;\n",
              "    display: none;\n",
              "    fill: #1967D2;\n",
              "    height: 32px;\n",
              "    padding: 0 0 0 0;\n",
              "    width: 32px;\n",
              "  }\n",
              "\n",
              "  .colab-df-quickchart:hover {\n",
              "    background-color: #E2EBFA;\n",
              "    box-shadow: 0px 1px 2px rgba(60, 64, 67, 0.3), 0px 1px 3px 1px rgba(60, 64, 67, 0.15);\n",
              "    fill: #174EA6;\n",
              "  }\n",
              "\n",
              "  [theme=dark] .colab-df-quickchart {\n",
              "    background-color: #3B4455;\n",
              "    fill: #D2E3FC;\n",
              "  }\n",
              "\n",
              "  [theme=dark] .colab-df-quickchart:hover {\n",
              "    background-color: #434B5C;\n",
              "    box-shadow: 0px 1px 3px 1px rgba(0, 0, 0, 0.15);\n",
              "    filter: drop-shadow(0px 1px 2px rgba(0, 0, 0, 0.3));\n",
              "    fill: #FFFFFF;\n",
              "  }\n",
              "</style>\n",
              "\n",
              "  <script>\n",
              "    async function quickchart(key) {\n",
              "      const charts = await google.colab.kernel.invokeFunction(\n",
              "          'suggestCharts', [key], {});\n",
              "    }\n",
              "    (() => {\n",
              "      let quickchartButtonEl =\n",
              "        document.querySelector('#df-5521c7bb-0fe7-423f-9087-bd80a8413271 button');\n",
              "      quickchartButtonEl.style.display =\n",
              "        google.colab.kernel.accessAllowed ? 'block' : 'none';\n",
              "    })();\n",
              "  </script>\n",
              "</div>\n",
              "    </div>\n",
              "  </div>\n"
            ],
            "text/plain": [
              "              id       date  store_nbr     family      sales  onpromotion\n",
              "79674      79674 2013-02-14         44  GROCERY I  26067.000            0\n",
              "562596    562596 2013-11-12         44  GROCERY I  46271.000            0\n",
              "1257246  1257246 2014-12-08         35  GROCERY I  45361.000            3\n",
              "1261635  1261635 2014-12-10          9  GROCERY I  31375.500           10\n",
              "1269390  1269390 2014-12-15         26  GROCERY I  32209.000           17\n",
              "1271832  1271832 2014-12-16         44  GROCERY I  37106.000            7\n",
              "1275429  1275429 2014-12-18         45  GROCERY I  25991.000           13\n",
              "1283844  1283844 2014-12-23         31  GROCERY I  31851.158            3\n",
              "1857219  1857219 2015-11-11          2  GROCERY I  33274.000           23\n",
              "1898370  1898370 2015-12-04         24  GROCERY I  35828.000           28\n",
              "1916586  1916586 2015-12-14         35  GROCERY I  40351.460            7\n",
              "1923384  1923384 2015-12-18         26  GROCERY I  34454.000           14\n",
              "1929456  1929456 2015-12-21         46  GROCERY I  25238.000           21\n",
              "2137875  2137875 2016-04-17         44  BEVERAGES  25413.000           10\n",
              "2137884  2137884 2016-04-17         44  GROCERY I  29670.000           36\n",
              "2139666  2139666 2016-04-18         44  GROCERY I  29193.000           40\n",
              "2145045  2145045 2016-04-21         45  GROCERY I  53874.000           44\n",
              "2245728  2245728 2016-06-17         20  GROCERY I  28998.662           39\n",
              "2263548  2263548 2016-06-27         20  GROCERY I  29490.850           28\n",
              "2276022  2276022 2016-07-04         20  GROCERY I  37514.926           40\n",
              "2550582  2550582 2016-12-05         24  GROCERY I  31689.000           98\n",
              "2563452  2563452 2016-12-12         35  GROCERY I  31125.521           77\n",
              "2574507  2574507 2016-12-18         45  GROCERY I  25852.000          139\n",
              "2576289  2576289 2016-12-19         45  GROCERY I  25938.000          131\n",
              "2578071  2578071 2016-12-20         45  GROCERY I  29666.000          128\n",
              "2760297  2760297 2017-04-02          9  GROCERY I  38422.625           73"
            ]
          },
          "execution_count": 11,
          "metadata": {},
          "output_type": "execute_result"
        }
      ],
      "source": [
        "df_train[df_train['sales'] > 25000]"
      ]
    },
    {
      "cell_type": "code",
      "execution_count": null,
      "metadata": {
        "colab": {
          "base_uri": "https://localhost:8080/"
        },
        "id": "SKhC05r-GjpX",
        "outputId": "bc352efe-66ea-4c79-d246-4765b37ed5b5"
      },
      "outputs": [
        {
          "name": "stdout",
          "output_type": "stream",
          "text": [
            "357.62930321744267\n",
            "1095.8233887802473\n"
          ]
        }
      ],
      "source": [
        "print(df_train['sales'].mean())\n",
        "print(df_train['sales'].std())"
      ]
    },
    {
      "cell_type": "markdown",
      "source": [
        "### Calcula la matriz de correlación\n",
        "Un valor de 1 indica una correlación positiva perfecta, lo que significa que cuando una variable aumenta, la otra también aumenta en proporción constante. Un valor de -1 indica una correlación negativa perfecta, lo que significa que cuando una variable aumenta, la otra disminuye en proporción constante. Un valor cercano a 0 indica una correlación débil o nula, lo que significa que las variables no están correlacionadas de manera significativa."
      ],
      "metadata": {
        "id": "FpmAY2-x4oip"
      }
    },
    {
      "cell_type": "code",
      "execution_count": null,
      "metadata": {
        "colab": {
          "base_uri": "https://localhost:8080/",
          "height": 229
        },
        "id": "5raq0mVXI7sc",
        "outputId": "ae142265-1237-4e75-8c9f-b33b67388d13"
      },
      "outputs": [
        {
          "name": "stderr",
          "output_type": "stream",
          "text": [
            "<ipython-input-13-81897f4db25c>:1: FutureWarning: The default value of numeric_only in DataFrame.corr is deprecated. In a future version, it will default to False. Select only valid columns or specify the value of numeric_only to silence this warning.\n",
            "  df_train.corr()\n"
          ]
        },
        {
          "data": {
            "text/html": [
              "\n",
              "  <div id=\"df-cf403fd8-6e4d-4e1c-b849-dbd913c6b7bc\" class=\"colab-df-container\">\n",
              "    <div>\n",
              "<style scoped>\n",
              "    .dataframe tbody tr th:only-of-type {\n",
              "        vertical-align: middle;\n",
              "    }\n",
              "\n",
              "    .dataframe tbody tr th {\n",
              "        vertical-align: top;\n",
              "    }\n",
              "\n",
              "    .dataframe thead th {\n",
              "        text-align: right;\n",
              "    }\n",
              "</style>\n",
              "<table border=\"1\" class=\"dataframe\">\n",
              "  <thead>\n",
              "    <tr style=\"text-align: right;\">\n",
              "      <th></th>\n",
              "      <th>id</th>\n",
              "      <th>store_nbr</th>\n",
              "      <th>sales</th>\n",
              "      <th>onpromotion</th>\n",
              "    </tr>\n",
              "  </thead>\n",
              "  <tbody>\n",
              "    <tr>\n",
              "      <th>id</th>\n",
              "      <td>1.000000</td>\n",
              "      <td>0.000301</td>\n",
              "      <td>0.086157</td>\n",
              "      <td>0.206260</td>\n",
              "    </tr>\n",
              "    <tr>\n",
              "      <th>store_nbr</th>\n",
              "      <td>0.000301</td>\n",
              "      <td>1.000000</td>\n",
              "      <td>0.041488</td>\n",
              "      <td>0.007286</td>\n",
              "    </tr>\n",
              "    <tr>\n",
              "      <th>sales</th>\n",
              "      <td>0.086157</td>\n",
              "      <td>0.041488</td>\n",
              "      <td>1.000000</td>\n",
              "      <td>0.429947</td>\n",
              "    </tr>\n",
              "    <tr>\n",
              "      <th>onpromotion</th>\n",
              "      <td>0.206260</td>\n",
              "      <td>0.007286</td>\n",
              "      <td>0.429947</td>\n",
              "      <td>1.000000</td>\n",
              "    </tr>\n",
              "  </tbody>\n",
              "</table>\n",
              "</div>\n",
              "    <div class=\"colab-df-buttons\">\n",
              "\n",
              "  <div class=\"colab-df-container\">\n",
              "    <button class=\"colab-df-convert\" onclick=\"convertToInteractive('df-cf403fd8-6e4d-4e1c-b849-dbd913c6b7bc')\"\n",
              "            title=\"Convert this dataframe to an interactive table.\"\n",
              "            style=\"display:none;\">\n",
              "\n",
              "  <svg xmlns=\"http://www.w3.org/2000/svg\" height=\"24px\" viewBox=\"0 -960 960 960\">\n",
              "    <path d=\"M120-120v-720h720v720H120Zm60-500h600v-160H180v160Zm220 220h160v-160H400v160Zm0 220h160v-160H400v160ZM180-400h160v-160H180v160Zm440 0h160v-160H620v160ZM180-180h160v-160H180v160Zm440 0h160v-160H620v160Z\"/>\n",
              "  </svg>\n",
              "    </button>\n",
              "\n",
              "  <style>\n",
              "    .colab-df-container {\n",
              "      display:flex;\n",
              "      gap: 12px;\n",
              "    }\n",
              "\n",
              "    .colab-df-convert {\n",
              "      background-color: #E8F0FE;\n",
              "      border: none;\n",
              "      border-radius: 50%;\n",
              "      cursor: pointer;\n",
              "      display: none;\n",
              "      fill: #1967D2;\n",
              "      height: 32px;\n",
              "      padding: 0 0 0 0;\n",
              "      width: 32px;\n",
              "    }\n",
              "\n",
              "    .colab-df-convert:hover {\n",
              "      background-color: #E2EBFA;\n",
              "      box-shadow: 0px 1px 2px rgba(60, 64, 67, 0.3), 0px 1px 3px 1px rgba(60, 64, 67, 0.15);\n",
              "      fill: #174EA6;\n",
              "    }\n",
              "\n",
              "    .colab-df-buttons div {\n",
              "      margin-bottom: 4px;\n",
              "    }\n",
              "\n",
              "    [theme=dark] .colab-df-convert {\n",
              "      background-color: #3B4455;\n",
              "      fill: #D2E3FC;\n",
              "    }\n",
              "\n",
              "    [theme=dark] .colab-df-convert:hover {\n",
              "      background-color: #434B5C;\n",
              "      box-shadow: 0px 1px 3px 1px rgba(0, 0, 0, 0.15);\n",
              "      filter: drop-shadow(0px 1px 2px rgba(0, 0, 0, 0.3));\n",
              "      fill: #FFFFFF;\n",
              "    }\n",
              "  </style>\n",
              "\n",
              "    <script>\n",
              "      const buttonEl =\n",
              "        document.querySelector('#df-cf403fd8-6e4d-4e1c-b849-dbd913c6b7bc button.colab-df-convert');\n",
              "      buttonEl.style.display =\n",
              "        google.colab.kernel.accessAllowed ? 'block' : 'none';\n",
              "\n",
              "      async function convertToInteractive(key) {\n",
              "        const element = document.querySelector('#df-cf403fd8-6e4d-4e1c-b849-dbd913c6b7bc');\n",
              "        const dataTable =\n",
              "          await google.colab.kernel.invokeFunction('convertToInteractive',\n",
              "                                                    [key], {});\n",
              "        if (!dataTable) return;\n",
              "\n",
              "        const docLinkHtml = 'Like what you see? Visit the ' +\n",
              "          '<a target=\"_blank\" href=https://colab.research.google.com/notebooks/data_table.ipynb>data table notebook</a>'\n",
              "          + ' to learn more about interactive tables.';\n",
              "        element.innerHTML = '';\n",
              "        dataTable['output_type'] = 'display_data';\n",
              "        await google.colab.output.renderOutput(dataTable, element);\n",
              "        const docLink = document.createElement('div');\n",
              "        docLink.innerHTML = docLinkHtml;\n",
              "        element.appendChild(docLink);\n",
              "      }\n",
              "    </script>\n",
              "  </div>\n",
              "\n",
              "    </div>\n",
              "  </div>\n"
            ],
            "text/plain": [
              "                   id  store_nbr     sales  onpromotion\n",
              "id           1.000000   0.000301  0.086157     0.206260\n",
              "store_nbr    0.000301   1.000000  0.041488     0.007286\n",
              "sales        0.086157   0.041488  1.000000     0.429947\n",
              "onpromotion  0.206260   0.007286  0.429947     1.000000"
            ]
          },
          "execution_count": 13,
          "metadata": {},
          "output_type": "execute_result"
        }
      ],
      "source": [
        "df_train.corr()"
      ]
    },
    {
      "cell_type": "code",
      "source": [
        "# df_train_return = pd.DataFrame()\n",
        "# df_train_return['sales'] = np.log(df_train['sales']).diff(1)\n",
        "# df_train_return['date'] = df_train['date']\n",
        "# df_train_return.dropna().reset_index()\n",
        "# plt.hist(df_train_return['sales'],bins=12)"
      ],
      "metadata": {
        "id": "Gt2wQXaOyoSd"
      },
      "execution_count": null,
      "outputs": []
    },
    {
      "cell_type": "code",
      "execution_count": null,
      "metadata": {
        "colab": {
          "base_uri": "https://localhost:8080/"
        },
        "id": "v7NlipNKTIHn",
        "outputId": "b728b3c3-1340-44a2-be6b-b15025a0d024"
      },
      "outputs": [
        {
          "name": "stdout",
          "output_type": "stream",
          "text": [
            "<class 'pandas.core.frame.DataFrame'>\n",
            "RangeIndex: 28512 entries, 0 to 28511\n",
            "Data columns (total 5 columns):\n",
            " #   Column       Non-Null Count  Dtype         \n",
            "---  ------       --------------  -----         \n",
            " 0   id           28512 non-null  int64         \n",
            " 1   date         28512 non-null  datetime64[ns]\n",
            " 2   store_nbr    28512 non-null  int64         \n",
            " 3   family       28512 non-null  object        \n",
            " 4   onpromotion  28512 non-null  int64         \n",
            "dtypes: datetime64[ns](1), int64(3), object(1)\n",
            "memory usage: 1.1+ MB\n",
            "None\n",
            "id             0\n",
            "date           0\n",
            "store_nbr      0\n",
            "family         0\n",
            "onpromotion    0\n",
            "dtype: int64\n"
          ]
        }
      ],
      "source": [
        "# ESTO LO PUSE ARRIBA DONDE TAMBIEN SE HIZO PARA TRAIN\n",
        "\n",
        "# df_test['date'] = pd.to_datetime(df_test['date'])\n",
        "# print(df_test.info())\n",
        "# print(df_test.isna().sum())"
      ]
    },
    {
      "cell_type": "markdown",
      "source": [
        "### Grafica promociones por fecha"
      ],
      "metadata": {
        "id": "sZwj1ceN6LWl"
      }
    },
    {
      "cell_type": "code",
      "execution_count": null,
      "metadata": {
        "colab": {
          "base_uri": "https://localhost:8080/",
          "height": 447
        },
        "id": "Hrr2CdBBvoc2",
        "outputId": "df2b53bd-3419-4608-c5a9-5fe936bc7cde"
      },
      "outputs": [
        {
          "output_type": "execute_result",
          "data": {
            "text/plain": [
              "[<matplotlib.lines.Line2D at 0x7fd5cc0128c0>]"
            ]
          },
          "metadata": {},
          "execution_count": 29
        },
        {
          "output_type": "display_data",
          "data": {
            "text/plain": [
              "<Figure size 640x480 with 1 Axes>"
            ],
            "image/png": "[encoded data removed]"
          },
          "metadata": {}
        }
      ],
      "source": [
        "plt.plot(df_test['date'], df_test['onpromotion'])"
      ]
    },
    {
      "cell_type": "code",
      "execution_count": null,
      "metadata": {
        "colab": {
          "base_uri": "https://localhost:8080/"
        },
        "id": "6yc3h0TMT8Rn",
        "outputId": "aaa2bab3-e551-4012-d8e8-51c02a0b4ce3"
      },
      "outputs": [
        {
          "name": "stdout",
          "output_type": "stream",
          "text": [
            "<class 'pandas.core.frame.DataFrame'>\n",
            "RangeIndex: 54 entries, 0 to 53\n",
            "Data columns (total 5 columns):\n",
            " #   Column     Non-Null Count  Dtype \n",
            "---  ------     --------------  ----- \n",
            " 0   store_nbr  54 non-null     int64 \n",
            " 1   city       54 non-null     object\n",
            " 2   state      54 non-null     object\n",
            " 3   type       54 non-null     object\n",
            " 4   cluster    54 non-null     int64 \n",
            "dtypes: int64(2), object(3)\n",
            "memory usage: 2.2+ KB\n",
            "None\n",
            "store_nbr    0\n",
            "city         0\n",
            "state        0\n",
            "type         0\n",
            "cluster      0\n",
            "dtype: int64\n"
          ]
        }
      ],
      "source": [
        "# Esto lo puse arriba donde se hizo para las demas cosas\n",
        "\n",
        "# print(df_stores.info())\n",
        "# print(df_stores.isna().sum())"
      ]
    },
    {
      "cell_type": "markdown",
      "source": [
        "### Número de tiendas por ciudad"
      ],
      "metadata": {
        "id": "n-TLxUAf6zfb"
      }
    },
    {
      "cell_type": "code",
      "execution_count": null,
      "metadata": {
        "colab": {
          "base_uri": "https://localhost:8080/",
          "height": 447
        },
        "id": "OHUQQzC5M8Mr",
        "outputId": "17e6fce3-d8c3-4f8d-f9fe-5164afe314b1"
      },
      "outputs": [
        {
          "data": {
            "text/plain": [
              "<BarContainer object of 22 artists>"
            ]
          },
          "execution_count": 17,
          "metadata": {},
          "output_type": "execute_result"
        },
        {
          "data": {
            "image/png": "[encoded data removed]",
            "text/plain": [
              "<Figure size 640x480 with 1 Axes>"
            ]
          },
          "metadata": {},
          "output_type": "display_data"
        }
      ],
      "source": [
        "group = df_stores.groupby('city')['store_nbr'].count().reset_index()\n",
        "plt.barh(group['city'],group['store_nbr'])"
      ]
    },
    {
      "cell_type": "code",
      "execution_count": null,
      "metadata": {
        "colab": {
          "base_uri": "https://localhost:8080/",
          "height": 739
        },
        "id": "gEZkITufOAE6",
        "outputId": "437c5e12-1ae0-4c84-c7af-6e40d5ef35a6"
      },
      "outputs": [
        {
          "data": {
            "text/html": [
              "\n",
              "  <div id=\"df-e5502688-e6c3-4fa6-81e2-65035218b7d5\" class=\"colab-df-container\">\n",
              "    <div>\n",
              "<style scoped>\n",
              "    .dataframe tbody tr th:only-of-type {\n",
              "        vertical-align: middle;\n",
              "    }\n",
              "\n",
              "    .dataframe tbody tr th {\n",
              "        vertical-align: top;\n",
              "    }\n",
              "\n",
              "    .dataframe thead th {\n",
              "        text-align: right;\n",
              "    }\n",
              "</style>\n",
              "<table border=\"1\" class=\"dataframe\">\n",
              "  <thead>\n",
              "    <tr style=\"text-align: right;\">\n",
              "      <th></th>\n",
              "      <th>city</th>\n",
              "      <th>store_nbr</th>\n",
              "    </tr>\n",
              "  </thead>\n",
              "  <tbody>\n",
              "    <tr>\n",
              "      <th>18</th>\n",
              "      <td>Quito</td>\n",
              "      <td>18</td>\n",
              "    </tr>\n",
              "    <tr>\n",
              "      <th>8</th>\n",
              "      <td>Guayaquil</td>\n",
              "      <td>8</td>\n",
              "    </tr>\n",
              "    <tr>\n",
              "      <th>21</th>\n",
              "      <td>Santo Domingo</td>\n",
              "      <td>3</td>\n",
              "    </tr>\n",
              "    <tr>\n",
              "      <th>3</th>\n",
              "      <td>Cuenca</td>\n",
              "      <td>3</td>\n",
              "    </tr>\n",
              "    <tr>\n",
              "      <th>14</th>\n",
              "      <td>Manta</td>\n",
              "      <td>2</td>\n",
              "    </tr>\n",
              "    <tr>\n",
              "      <th>13</th>\n",
              "      <td>Machala</td>\n",
              "      <td>2</td>\n",
              "    </tr>\n",
              "    <tr>\n",
              "      <th>10</th>\n",
              "      <td>Latacunga</td>\n",
              "      <td>2</td>\n",
              "    </tr>\n",
              "    <tr>\n",
              "      <th>0</th>\n",
              "      <td>Ambato</td>\n",
              "      <td>2</td>\n",
              "    </tr>\n",
              "    <tr>\n",
              "      <th>7</th>\n",
              "      <td>Guaranda</td>\n",
              "      <td>1</td>\n",
              "    </tr>\n",
              "    <tr>\n",
              "      <th>9</th>\n",
              "      <td>Ibarra</td>\n",
              "      <td>1</td>\n",
              "    </tr>\n",
              "    <tr>\n",
              "      <th>6</th>\n",
              "      <td>Esmeraldas</td>\n",
              "      <td>1</td>\n",
              "    </tr>\n",
              "    <tr>\n",
              "      <th>1</th>\n",
              "      <td>Babahoyo</td>\n",
              "      <td>1</td>\n",
              "    </tr>\n",
              "    <tr>\n",
              "      <th>12</th>\n",
              "      <td>Loja</td>\n",
              "      <td>1</td>\n",
              "    </tr>\n",
              "    <tr>\n",
              "      <th>5</th>\n",
              "      <td>El Carmen</td>\n",
              "      <td>1</td>\n",
              "    </tr>\n",
              "    <tr>\n",
              "      <th>4</th>\n",
              "      <td>Daule</td>\n",
              "      <td>1</td>\n",
              "    </tr>\n",
              "    <tr>\n",
              "      <th>15</th>\n",
              "      <td>Playas</td>\n",
              "      <td>1</td>\n",
              "    </tr>\n",
              "    <tr>\n",
              "      <th>16</th>\n",
              "      <td>Puyo</td>\n",
              "      <td>1</td>\n",
              "    </tr>\n",
              "    <tr>\n",
              "      <th>17</th>\n",
              "      <td>Quevedo</td>\n",
              "      <td>1</td>\n",
              "    </tr>\n",
              "    <tr>\n",
              "      <th>2</th>\n",
              "      <td>Cayambe</td>\n",
              "      <td>1</td>\n",
              "    </tr>\n",
              "    <tr>\n",
              "      <th>19</th>\n",
              "      <td>Riobamba</td>\n",
              "      <td>1</td>\n",
              "    </tr>\n",
              "    <tr>\n",
              "      <th>20</th>\n",
              "      <td>Salinas</td>\n",
              "      <td>1</td>\n",
              "    </tr>\n",
              "    <tr>\n",
              "      <th>11</th>\n",
              "      <td>Libertad</td>\n",
              "      <td>1</td>\n",
              "    </tr>\n",
              "  </tbody>\n",
              "</table>\n",
              "</div>\n",
              "    <div class=\"colab-df-buttons\">\n",
              "\n",
              "  <div class=\"colab-df-container\">\n",
              "    <button class=\"colab-df-convert\" onclick=\"convertToInteractive('df-e5502688-e6c3-4fa6-81e2-65035218b7d5')\"\n",
              "            title=\"Convert this dataframe to an interactive table.\"\n",
              "            style=\"display:none;\">\n",
              "\n",
              "  <svg xmlns=\"http://www.w3.org/2000/svg\" height=\"24px\" viewBox=\"0 -960 960 960\">\n",
              "    <path d=\"M120-120v-720h720v720H120Zm60-500h600v-160H180v160Zm220 220h160v-160H400v160Zm0 220h160v-160H400v160ZM180-400h160v-160H180v160Zm440 0h160v-160H620v160ZM180-180h160v-160H180v160Zm440 0h160v-160H620v160Z\"/>\n",
              "  </svg>\n",
              "    </button>\n",
              "\n",
              "  <style>\n",
              "    .colab-df-container {\n",
              "      display:flex;\n",
              "      gap: 12px;\n",
              "    }\n",
              "\n",
              "    .colab-df-convert {\n",
              "      background-color: #E8F0FE;\n",
              "      border: none;\n",
              "      border-radius: 50%;\n",
              "      cursor: pointer;\n",
              "      display: none;\n",
              "      fill: #1967D2;\n",
              "      height: 32px;\n",
              "      padding: 0 0 0 0;\n",
              "      width: 32px;\n",
              "    }\n",
              "\n",
              "    .colab-df-convert:hover {\n",
              "      background-color: #E2EBFA;\n",
              "      box-shadow: 0px 1px 2px rgba(60, 64, 67, 0.3), 0px 1px 3px 1px rgba(60, 64, 67, 0.15);\n",
              "      fill: #174EA6;\n",
              "    }\n",
              "\n",
              "    .colab-df-buttons div {\n",
              "      margin-bottom: 4px;\n",
              "    }\n",
              "\n",
              "    [theme=dark] .colab-df-convert {\n",
              "      background-color: #3B4455;\n",
              "      fill: #D2E3FC;\n",
              "    }\n",
              "\n",
              "    [theme=dark] .colab-df-convert:hover {\n",
              "      background-color: #434B5C;\n",
              "      box-shadow: 0px 1px 3px 1px rgba(0, 0, 0, 0.15);\n",
              "      filter: drop-shadow(0px 1px 2px rgba(0, 0, 0, 0.3));\n",
              "      fill: #FFFFFF;\n",
              "    }\n",
              "  </style>\n",
              "\n",
              "    <script>\n",
              "      const buttonEl =\n",
              "        document.querySelector('#df-e5502688-e6c3-4fa6-81e2-65035218b7d5 button.colab-df-convert');\n",
              "      buttonEl.style.display =\n",
              "        google.colab.kernel.accessAllowed ? 'block' : 'none';\n",
              "\n",
              "      async function convertToInteractive(key) {\n",
              "        const element = document.querySelector('#df-e5502688-e6c3-4fa6-81e2-65035218b7d5');\n",
              "        const dataTable =\n",
              "          await google.colab.kernel.invokeFunction('convertToInteractive',\n",
              "                                                    [key], {});\n",
              "        if (!dataTable) return;\n",
              "\n",
              "        const docLinkHtml = 'Like what you see? Visit the ' +\n",
              "          '<a target=\"_blank\" href=https://colab.research.google.com/notebooks/data_table.ipynb>data table notebook</a>'\n",
              "          + ' to learn more about interactive tables.';\n",
              "        element.innerHTML = '';\n",
              "        dataTable['output_type'] = 'display_data';\n",
              "        await google.colab.output.renderOutput(dataTable, element);\n",
              "        const docLink = document.createElement('div');\n",
              "        docLink.innerHTML = docLinkHtml;\n",
              "        element.appendChild(docLink);\n",
              "      }\n",
              "    </script>\n",
              "  </div>\n",
              "\n",
              "\n",
              "<div id=\"df-b4601e61-b8cc-44a3-8d44-9c0fa7fd80cb\">\n",
              "  <button class=\"colab-df-quickchart\" onclick=\"quickchart('df-b4601e61-b8cc-44a3-8d44-9c0fa7fd80cb')\"\n",
              "            title=\"Suggest charts.\"\n",
              "            style=\"display:none;\">\n",
              "\n",
              "<svg xmlns=\"http://www.w3.org/2000/svg\" height=\"24px\"viewBox=\"0 0 24 24\"\n",
              "     width=\"24px\">\n",
              "    <g>\n",
              "        <path d=\"M19 3H5c-1.1 0-2 .9-2 2v14c0 1.1.9 2 2 2h14c1.1 0 2-.9 2-2V5c0-1.1-.9-2-2-2zM9 17H7v-7h2v7zm4 0h-2V7h2v10zm4 0h-2v-4h2v4z\"/>\n",
              "    </g>\n",
              "</svg>\n",
              "  </button>\n",
              "\n",
              "<style>\n",
              "  .colab-df-quickchart {\n",
              "    background-color: #E8F0FE;\n",
              "    border: none;\n",
              "    border-radius: 50%;\n",
              "    cursor: pointer;\n",
              "    display: none;\n",
              "    fill: #1967D2;\n",
              "    height: 32px;\n",
              "    padding: 0 0 0 0;\n",
              "    width: 32px;\n",
              "  }\n",
              "\n",
              "  .colab-df-quickchart:hover {\n",
              "    background-color: #E2EBFA;\n",
              "    box-shadow: 0px 1px 2px rgba(60, 64, 67, 0.3), 0px 1px 3px 1px rgba(60, 64, 67, 0.15);\n",
              "    fill: #174EA6;\n",
              "  }\n",
              "\n",
              "  [theme=dark] .colab-df-quickchart {\n",
              "    background-color: #3B4455;\n",
              "    fill: #D2E3FC;\n",
              "  }\n",
              "\n",
              "  [theme=dark] .colab-df-quickchart:hover {\n",
              "    background-color: #434B5C;\n",
              "    box-shadow: 0px 1px 3px 1px rgba(0, 0, 0, 0.15);\n",
              "    filter: drop-shadow(0px 1px 2px rgba(0, 0, 0, 0.3));\n",
              "    fill: #FFFFFF;\n",
              "  }\n",
              "</style>\n",
              "\n",
              "  <script>\n",
              "    async function quickchart(key) {\n",
              "      const charts = await google.colab.kernel.invokeFunction(\n",
              "          'suggestCharts', [key], {});\n",
              "    }\n",
              "    (() => {\n",
              "      let quickchartButtonEl =\n",
              "        document.querySelector('#df-b4601e61-b8cc-44a3-8d44-9c0fa7fd80cb button');\n",
              "      quickchartButtonEl.style.display =\n",
              "        google.colab.kernel.accessAllowed ? 'block' : 'none';\n",
              "    })();\n",
              "  </script>\n",
              "</div>\n",
              "    </div>\n",
              "  </div>\n"
            ],
            "text/plain": [
              "             city  store_nbr\n",
              "18          Quito         18\n",
              "8       Guayaquil          8\n",
              "21  Santo Domingo          3\n",
              "3          Cuenca          3\n",
              "14          Manta          2\n",
              "13        Machala          2\n",
              "10      Latacunga          2\n",
              "0          Ambato          2\n",
              "7        Guaranda          1\n",
              "9          Ibarra          1\n",
              "6      Esmeraldas          1\n",
              "1        Babahoyo          1\n",
              "12           Loja          1\n",
              "5       El Carmen          1\n",
              "4           Daule          1\n",
              "15         Playas          1\n",
              "16           Puyo          1\n",
              "17        Quevedo          1\n",
              "2         Cayambe          1\n",
              "19       Riobamba          1\n",
              "20        Salinas          1\n",
              "11       Libertad          1"
            ]
          },
          "execution_count": 18,
          "metadata": {},
          "output_type": "execute_result"
        }
      ],
      "source": [
        "group.sort_values(by='store_nbr', ascending= False)"
      ]
    },
    {
      "cell_type": "markdown",
      "source": [
        "### Transacciones por fecha"
      ],
      "metadata": {
        "id": "Z362cskV70O3"
      }
    },
    {
      "cell_type": "code",
      "execution_count": null,
      "metadata": {
        "colab": {
          "base_uri": "https://localhost:8080/"
        },
        "id": "fR88zCqhUDiI",
        "outputId": "7fe9a6e0-387f-448e-b840-765327ca8610"
      },
      "outputs": [
        {
          "name": "stdout",
          "output_type": "stream",
          "text": [
            "<class 'pandas.core.frame.DataFrame'>\n",
            "RangeIndex: 83488 entries, 0 to 83487\n",
            "Data columns (total 3 columns):\n",
            " #   Column        Non-Null Count  Dtype         \n",
            "---  ------        --------------  -----         \n",
            " 0   date          83488 non-null  datetime64[ns]\n",
            " 1   store_nbr     83488 non-null  int64         \n",
            " 2   transactions  83488 non-null  int64         \n",
            "dtypes: datetime64[ns](1), int64(2)\n",
            "memory usage: 1.9 MB\n",
            "None\n",
            "date            0\n",
            "store_nbr       0\n",
            "transactions    0\n",
            "dtype: int64\n"
          ]
        },
        {
          "data": {
            "text/plain": [
              "[<matplotlib.lines.Line2D at 0x7fd6196ffb50>]"
            ]
          },
          "execution_count": 19,
          "metadata": {},
          "output_type": "execute_result"
        }
      ],
      "source": [
        "# Esto lo puse arriba donde se hizo con los demas\n",
        "\n",
        "# df_transactions['date'] = pd.to_datetime(df_transactions['date'])\n",
        "# print(df_transactions.info())\n",
        "# print(df_transactions.isna().sum())\n",
        "\n",
        "\n",
        "plt.plot(df_transactions['date'], df_transactions['transactions'])"
      ]
    },
    {
      "cell_type": "markdown",
      "source": [
        "### Tiendas con mas transacciones"
      ],
      "metadata": {
        "id": "RWgHRftZ79P_"
      }
    },
    {
      "cell_type": "code",
      "execution_count": null,
      "metadata": {
        "id": "Db8WLUuRJW1i"
      },
      "outputs": [],
      "source": [
        "group = df_transactions.groupby('store_nbr')['transactions'].sum().reset_index()\n",
        "plt.bar(group['store_nbr'],group['transactions'])\n",
        "plt.xlabel('Store Number')\n",
        "plt.ylabel('Sum of transactions')\n",
        "print(group.sort_values(by='transactions', ascending= False))"
      ]
    },
    {
      "cell_type": "code",
      "execution_count": null,
      "metadata": {
        "id": "wd1NzdHPTEKB"
      },
      "outputs": [],
      "source": [
        "result = df_transactions.merge(df_stores, how='left')\n",
        "result = result.groupby('store_nbr')['transactions'].sum().reset_index()\n",
        "result = result.sort_values(by='transactions', ascending= False)\n",
        "result = result.merge(df_stores, how='left')\n",
        "result\n",
        "# group = result.groupby('city')['transactions'].sum().reset_index()\n",
        "# plt.barh(result['city'],result['transactions'])"
      ]
    },
    {
      "cell_type": "markdown",
      "source": [
        "### Valor del Oil por fecha"
      ],
      "metadata": {
        "id": "NxAGJ02J9Ce3"
      }
    },
    {
      "cell_type": "code",
      "execution_count": null,
      "metadata": {
        "colab": {
          "background_save": true
        },
        "id": "U61ScdSpVa7L",
        "outputId": "14553420-bddd-4bfd-ade9-9cc5bc4c2efa"
      },
      "outputs": [
        {
          "name": "stdout",
          "output_type": "stream",
          "text": [
            "<class 'pandas.core.frame.DataFrame'>\n",
            "RangeIndex: 1218 entries, 0 to 1217\n",
            "Data columns (total 2 columns):\n",
            " #   Column      Non-Null Count  Dtype  \n",
            "---  ------      --------------  -----  \n",
            " 0   date        1218 non-null   object \n",
            " 1   dcoilwtico  1175 non-null   float64\n",
            "dtypes: float64(1), object(1)\n",
            "memory usage: 19.2+ KB\n",
            "None\n",
            "date           0\n",
            "dcoilwtico    43\n",
            "dtype: int64\n"
          ]
        },
        {
          "data": {
            "text/plain": [
              "[<matplotlib.lines.Line2D at 0x7fd619488220>]"
            ]
          },
          "execution_count": 22,
          "metadata": {},
          "output_type": "execute_result"
        },
        {
          "data": {
            "image/png": "[encoded data removed]",
            "text/plain": [
              "<Figure size 640x480 with 1 Axes>"
            ]
          },
          "metadata": {},
          "output_type": "display_data"
        }
      ],
      "source": [
        "# Esto lo puse arriba junto a los demas\n",
        "\n",
        "# print(df_oil.info())\n",
        "# print(df_oil.isna().sum())\n",
        "\n",
        "# Hay que ponerle titulo a la grafica y asi\n",
        "plt.plot(df_oil['date'],df_oil['dcoilwtico'])"
      ]
    },
    {
      "cell_type": "markdown",
      "source": [
        "### Quitar los NaNs de Oil"
      ],
      "metadata": {
        "id": "mSUHk1Vz9Hq4"
      }
    },
    {
      "cell_type": "code",
      "execution_count": null,
      "metadata": {
        "colab": {
          "background_save": true
        },
        "id": "_8Hu5c5pWMbm",
        "outputId": "9cdf09a6-fb88-47f5-9757-138b3fc65d41"
      },
      "outputs": [
        {
          "name": "stdout",
          "output_type": "stream",
          "text": [
            "<class 'pandas.core.frame.DataFrame'>\n",
            "Int64Index: 1175 entries, 1 to 1217\n",
            "Data columns (total 2 columns):\n",
            " #   Column      Non-Null Count  Dtype         \n",
            "---  ------      --------------  -----         \n",
            " 0   date        1175 non-null   datetime64[ns]\n",
            " 1   dcoilwtico  1175 non-null   float64       \n",
            "dtypes: datetime64[ns](1), float64(1)\n",
            "memory usage: 27.5 KB\n",
            "None\n",
            "date          0\n",
            "dcoilwtico    0\n",
            "dtype: int64\n"
          ]
        },
        {
          "name": "stderr",
          "output_type": "stream",
          "text": [
            "<ipython-input-23-113e8a5d49ec>:2: SettingWithCopyWarning: \n",
            "A value is trying to be set on a copy of a slice from a DataFrame.\n",
            "Try using .loc[row_indexer,col_indexer] = value instead\n",
            "\n",
            "See the caveats in the documentation: https://pandas.pydata.org/pandas-docs/stable/user_guide/indexing.html#returning-a-view-versus-a-copy\n",
            "  df_oil['date'] = pd.to_datetime(df_oil['date'])\n"
          ]
        },
        {
          "data": {
            "text/plain": [
              "[<matplotlib.lines.Line2D at 0x7fd6141d24a0>]"
            ]
          },
          "execution_count": 23,
          "metadata": {},
          "output_type": "execute_result"
        },
        {
          "data": {
            "image/png": "[encoded data removed]",
            "text/plain": [
              "<Figure size 640x480 with 1 Axes>"
            ]
          },
          "metadata": {},
          "output_type": "display_data"
        }
      ],
      "source": [
        "df_oil = df_oil.dropna()\n",
        "# plt.plot(df_oil['dcoilwtico'])\n",
        "plt.plot(df_oil['date'], df_oil['dcoilwtico'])"
      ]
    },
    {
      "cell_type": "markdown",
      "source": [
        "### Crear una matriz de gráficos de dispersión para el df_train"
      ],
      "metadata": {
        "id": "D8eKaJAH94qE"
      }
    },
    {
      "cell_type": "code",
      "execution_count": null,
      "metadata": {
        "id": "JCkUaEBE2xN0",
        "colab": {
          "base_uri": "https://localhost:8080/",
          "height": 748
        },
        "outputId": "c186e7ce-71bc-41e1-bc20-adc1b805faf7"
      },
      "outputs": [
        {
          "data": {
            "text/plain": [
              "array([[<Axes: xlabel='id', ylabel='id'>,\n",
              "        <Axes: xlabel='store_nbr', ylabel='id'>,\n",
              "        <Axes: xlabel='sales', ylabel='id'>,\n",
              "        <Axes: xlabel='onpromotion', ylabel='id'>],\n",
              "       [<Axes: xlabel='id', ylabel='store_nbr'>,\n",
              "        <Axes: xlabel='store_nbr', ylabel='store_nbr'>,\n",
              "        <Axes: xlabel='sales', ylabel='store_nbr'>,\n",
              "        <Axes: xlabel='onpromotion', ylabel='store_nbr'>],\n",
              "       [<Axes: xlabel='id', ylabel='sales'>,\n",
              "        <Axes: xlabel='store_nbr', ylabel='sales'>,\n",
              "        <Axes: xlabel='sales', ylabel='sales'>,\n",
              "        <Axes: xlabel='onpromotion', ylabel='sales'>],\n",
              "       [<Axes: xlabel='id', ylabel='onpromotion'>,\n",
              "        <Axes: xlabel='store_nbr', ylabel='onpromotion'>,\n",
              "        <Axes: xlabel='sales', ylabel='onpromotion'>,\n",
              "        <Axes: xlabel='onpromotion', ylabel='onpromotion'>]], dtype=object)"
            ]
          },
          "execution_count": 26,
          "metadata": {},
          "output_type": "execute_result"
        },
        {
          "output_type": "display_data",
          "data": {
            "text/plain": [
              "<Figure size 640x480 with 16 Axes>"
            ],
            "image/png": "[encoded data removed]"
          },
          "metadata": {}
        }
      ],
      "source": [
        "pd.plotting.scatter_matrix(df_train)"
      ]
    }
  ],
  "metadata": {
    "colab": {
      "provenance": []
    },
    "kernelspec": {
      "display_name": "Python 3",
      "name": "python3"
    },
    "language_info": {
      "name": "python"
    }
  },
  "nbformat": 4,
  "nbformat_minor": 0
}